{
 "cells": [
  {
   "cell_type": "code",
   "execution_count": 52,
   "metadata": {},
   "outputs": [],
   "source": [
    "import pandas as pd\n",
    "import numpy as np\n",
    "import matplotlib.pyplot as plt\n",
    "\n",
    "import datetime\n",
    "import argparse\n",
    "\n",
    "from datetime import timedelta\n",
    "\n",
    "\n",
    "plt.style.use('ggplot')\n",
    "plt.rcParams['figure.figsize'] = (15, 5)"
   ]
  },
  {
   "cell_type": "code",
   "execution_count": 45,
   "metadata": {},
   "outputs": [
    {
     "data": {
      "text/plain": [
       "array([[  0.  ,   0.  ,   0.  ,   0.  ,   0.  ],\n",
       "       [  0.  ,   0.  ,   0.  ,   0.  ,   0.  ],\n",
       "       [110.6 ,  27.34,  84.65, 118.87,  45.06]])"
      ]
     },
     "execution_count": 45,
     "metadata": {},
     "output_type": "execute_result"
    }
   ],
   "source": [
    "curr_csv = pd.read_csv('currencies.csv', sep=',', encoding='latin1')\n",
    "price_csv = pd.read_csv('prices_ref.csv', sep=',', encoding='latin1', parse_dates=['date'], index_col='date')\n",
    "ex_csv = pd.read_csv('exchanges_ref.csv', sep=',', encoding='latin1', parse_dates=[0], index_col=0)\n",
    "weig_csv = pd.read_csv('weights_ref.csv', sep=',', encoding='latin1', parse_dates=[0], index_col=0)\n",
    "\n",
    "pl = timedelta(1)\n",
    "\n",
    "curr_np = curr_csv.to_numpy()\n",
    "curr_np = np.nan_to_num(curr_np)\n",
    "\n",
    "\n",
    "price_np = price_csv.to_numpy()\n",
    "price_np = np.nan_to_num(price_np)\n",
    "\n",
    "ex_np = ex_csv.to_numpy()\n",
    "ex_np = np.nan_to_num(ex_np)\n",
    "\n",
    "weig_np = weig_csv.to_numpy()\n",
    "weig_np = np.nan_to_num(weig_np)\n",
    "\n",
    "price_np[-3:]\n",
    "# a = np.nan_to_num(a)\n"
   ]
  },
  {
   "cell_type": "code",
   "execution_count": 120,
   "metadata": {},
   "outputs": [],
   "source": [
    "\n",
    "def check(a, b):\n",
    "    return a.day == b.day and a.month == b.month and a.year == b.year\n"
   ]
  },
  {
   "cell_type": "code",
   "execution_count": 121,
   "metadata": {},
   "outputs": [],
   "source": [
    "def get_index(arr, d):\n",
    "    for i in range(len(arr)):\n",
    "        if check(arr[i], d):\n",
    "            return i"
   ]
  },
  {
   "cell_type": "code",
   "execution_count": 125,
   "metadata": {},
   "outputs": [
    {
     "data": {
      "text/plain": [
       "array([31.4 , 17.58, 57.06, 53.63, 35.07])"
      ]
     },
     "execution_count": 125,
     "metadata": {},
     "output_type": "execute_result"
    }
   ],
   "source": [
    "price_index = price_csv.index.values\n",
    "ex_index = ex_csv.index.values\n",
    "weig_index = weig_csv.index.values\n",
    "b = pd.to_datetime(price_index)\n",
    "pr_date = np.array([])\n",
    "for i in b:\n",
    "    pr_date = np.append(pr_date, i)\n",
    "    \n",
    "b = pd.to_datetime(ex_index)\n",
    "ex_date = np.array([])\n",
    "for i in b:\n",
    "    ex_date = np.append(ex_date, i)    \n",
    "\n",
    "    \n",
    "b = pd.to_datetime(weig_index)\n",
    "we_date = np.array([])\n",
    "for i in b:\n",
    "    we_date = np.append(we_date, i)\n",
    "    \n",
    "# np.where(a == '2018')\n",
    "d = datetime.date(2014, 8, 8)\n",
    "get_index(pr_date, d)\n",
    "price_np[206] # working (checked!!! //by me)"
   ]
  },
  {
   "cell_type": "code",
   "execution_count": 95,
   "metadata": {},
   "outputs": [],
   "source": [
    "class ReckTest():\n",
    "    def __init__(self):\n",
    "        self.result = \"None\"\n",
    "        \n",
    "    \"\"\"Methods for task\"\"\"\n",
    "    def calculate_asset_performance(self, start_date, end_date):\n",
    "        self.result = str(start_date + end_date)\n",
    "    def  calculate_currency_performance(self, start_date, end_date):\n",
    "        self.result = (str(start_date) + str(end_date))\n",
    "    def calculate_total_performance(self, start_date, end_date):\n",
    "        self.result = str(start_date * end_date)"
   ]
  },
  {
   "cell_type": "code",
   "execution_count": 87,
   "metadata": {},
   "outputs": [
    {
     "data": {
      "text/plain": [
       "'6'"
      ]
     },
     "execution_count": 87,
     "metadata": {},
     "output_type": "execute_result"
    }
   ],
   "source": [
    "curr = ReckTest()\n",
    "curr.calculate_asset_performance(1, 5)\n",
    "curr.result"
   ]
  },
  {
   "cell_type": "code",
   "execution_count": 97,
   "metadata": {},
   "outputs": [
    {
     "data": {
      "text/plain": [
       "DatetimeIndex(['2014-01-14', '2014-01-15', '2014-01-16', '2014-01-17',\n",
       "               '2014-01-18', '2014-01-21', '2014-01-22', '2014-01-23',\n",
       "               '2014-01-24', '2014-01-25',\n",
       "               ...\n",
       "               '2018-02-21', '2018-02-22', '2018-02-23', '2018-02-24',\n",
       "               '2018-02-27', '2018-02-28', '2018-03-01', '2018-03-02',\n",
       "               '2018-03-03', '2018-03-06'],\n",
       "              dtype='datetime64[ns]', length=1081, freq=None)"
      ]
     },
     "execution_count": 97,
     "metadata": {},
     "output_type": "execute_result"
    }
   ],
   "source": [
    "weig_csv.index"
   ]
  }
 ],
 "metadata": {
  "kernelspec": {
   "display_name": "Python 3",
   "language": "python",
   "name": "python3"
  },
  "language_info": {
   "codemirror_mode": {
    "name": "ipython",
    "version": 3
   },
   "file_extension": ".py",
   "mimetype": "text/x-python",
   "name": "python",
   "nbconvert_exporter": "python",
   "pygments_lexer": "ipython3",
   "version": "3.5.2"
  }
 },
 "nbformat": 4,
 "nbformat_minor": 2
}
